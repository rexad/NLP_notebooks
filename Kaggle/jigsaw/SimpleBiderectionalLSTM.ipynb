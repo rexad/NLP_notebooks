{
  "nbformat": 4,
  "nbformat_minor": 0,
  "metadata": {
    "colab": {
      "name": "SimpleBiderectionalLSTM.ipynb",
      "provenance": [],
      "authorship_tag": "ABX9TyMcc0WKPowTYNYkLwqT7QLv",
      "include_colab_link": true
    },
    "kernelspec": {
      "name": "python3",
      "display_name": "Python 3"
    },
    "accelerator": "GPU"
  },
  "cells": [
    {
      "cell_type": "markdown",
      "metadata": {
        "id": "view-in-github",
        "colab_type": "text"
      },
      "source": [
        "<a href=\"https://colab.research.google.com/github/rexad/NLP_notebooks/blob/master/Kaggle/jigsaw/SimpleBiderectionalLSTM.ipynb\" target=\"_parent\"><img src=\"https://colab.research.google.com/assets/colab-badge.svg\" alt=\"Open In Colab\"/></a>"
      ]
    },
    {
      "cell_type": "code",
      "metadata": {
        "id": "wXJlOvmuMvWl",
        "colab_type": "code",
        "colab": {}
      },
      "source": [
        "import numpy as np\n",
        "import pandas as pd\n",
        "from tensorflow.keras.models import Model\n",
        "from tensorflow.keras.layers import Input, Dense, Embedding, SpatialDropout1D, add, concatenate\n",
        "from tensorflow.keras.layers import LSTM, Bidirectional, GlobalMaxPooling1D, GlobalAveragePooling1D\n",
        "from tensorflow.keras.preprocessing import sequence, text\n",
        "from gensim.models import KeyedVectors\n",
        "\n",
        "\n",
        "import gensim.downloader as api\n",
        "from gensim.test.utils import get_tmpfile\n",
        "from gensim.models import KeyedVectors\n",
        "\n",
        "import os.path\n",
        "from google.colab import drive"
      ],
      "execution_count": 1,
      "outputs": []
    },
    {
      "cell_type": "code",
      "metadata": {
        "id": "4oCMWjXkm2in",
        "colab_type": "code",
        "colab": {
          "base_uri": "https://localhost:8080/",
          "height": 139
        },
        "outputId": "5f8b702d-525b-486d-ee5f-add6f915792d"
      },
      "source": [
        "drive.mount('/content/gdrive')\n",
        "!ls \"/content/gdrive/My Drive/\""
      ],
      "execution_count": 3,
      "outputs": [
        {
          "output_type": "stream",
          "text": [
            "Go to this URL in a browser: https://accounts.google.com/o/oauth2/auth?client_id=947318989803-6bn6qk8qdgf4n4g3pfee6491hc0brc4i.apps.googleusercontent.com&redirect_uri=urn%3aietf%3awg%3aoauth%3a2.0%3aoob&response_type=code&scope=email%20https%3a%2f%2fwww.googleapis.com%2fauth%2fdocs.test%20https%3a%2f%2fwww.googleapis.com%2fauth%2fdrive%20https%3a%2f%2fwww.googleapis.com%2fauth%2fdrive.photos.readonly%20https%3a%2f%2fwww.googleapis.com%2fauth%2fpeopleapi.readonly\n",
            "\n",
            "Enter your authorization code:\n",
            "··········\n",
            "Mounted at /content/gdrive\n",
            "'Colab Notebooks'   Colab_Notebooks   Data   ML_Training\n"
          ],
          "name": "stdout"
        }
      ]
    },
    {
      "cell_type": "code",
      "metadata": {
        "id": "MZKrhmtLm6bg",
        "colab_type": "code",
        "colab": {}
      },
      "source": [
        "base_path_embed = '/content/gdrive/My Drive/Data/Embeddings/'\n",
        "embeddings = [\n",
        "              'fasttext-wiki-news-subwords-300',\n",
        "              'glove-twitter-100',\n",
        "              'glove-wiki-gigaword-300'\n",
        "              ]\n",
        "for embed in embeddings:\n",
        "  if os.path.isfile(base_path_embed+embed) == False:\n",
        "    embed_file = api.load(embed)\n",
        "    embed_file.save(base_path_embed+embed)\n",
        "    del embed_file"
      ],
      "execution_count": 4,
      "outputs": []
    },
    {
      "cell_type": "code",
      "metadata": {
        "id": "GkBxN4DznEbg",
        "colab_type": "code",
        "colab": {}
      },
      "source": [
        "\n",
        "#hyper-parameter \n",
        "num_nodes = 128\n",
        "batch_size = 256\n",
        "num_unrolling = 50\n",
        "dropout = 0.2\n",
        "MAX_LEN = 220\n",
        "LSTM_UNITS = 128\n",
        "DENSE_HIDDEN_UNITS = num_nodes  * 4"
      ],
      "execution_count": 5,
      "outputs": []
    },
    {
      "cell_type": "code",
      "metadata": {
        "id": "ngXoxk1Tmuce",
        "colab_type": "code",
        "colab": {}
      },
      "source": [
        "\n",
        "\n",
        "\n",
        "\n",
        "identity_columns = [\n",
        "    'male', 'female', 'homosexual_gay_or_lesbian', 'christian', 'jewish',\n",
        "    'muslim', 'black', 'white', 'psychiatric_or_mental_illness'\n",
        "]\n",
        "\n",
        "def build_model(matrix_embed):\n",
        "  words = Input(shape=(None,))\n",
        "\n",
        "  x = Embedding(*matrix_embed.shape, weights=[matrix_embed], trainable=False)(words)\n",
        "  x = Bidirectional(LSTM(num_nodes, return_sequences=True))(x)\n",
        "  \n",
        "  hidden = concatenate([\n",
        "        GlobalMaxPooling1D()(x),\n",
        "        GlobalAveragePooling1D()(x),\n",
        "    ])\n",
        "  \n",
        "  hidden = add([hidden, Dense(DENSE_HIDDEN_UNITS, activation='relu')(hidden)])\n",
        "  result = Dense(1, activation='sigmoid')(hidden)\n",
        "\n",
        "  model = Model(inputs=words, outputs=result)\n",
        "  model.compile(loss='binary_crossentropy', optimizer='adam')\n",
        "  return model\n",
        "\n",
        "\n",
        "def build_embed_matrix(embed, tokens):\n",
        "\n",
        "  embed_vec = KeyedVectors.load(base_path_embed + embed, mmap='r')\n",
        "  embed_matrix = np.zeros((len(tokens) + 1,300))\n",
        "  for i, word in tokens.items():\n",
        "    for candidate in [word, word.lower()]:\n",
        "      if candidate in embed_vec:\n",
        "        embed_matrix[i]= embed_vec[candidate]\n",
        "  return embed_matrix\n",
        "\n",
        "\n",
        "\n"
      ],
      "execution_count": 6,
      "outputs": []
    },
    {
      "cell_type": "code",
      "metadata": {
        "id": "k34rSHp-nb_v",
        "colab_type": "code",
        "colab": {}
      },
      "source": [
        "#load code \n",
        "\n",
        "train_df = pd.read_csv('/content/gdrive/My Drive/Data/jigsaw-unintended-bias-in-toxicity-classification/train.csv')\n",
        "test_df = pd.read_csv('/content/gdrive/My Drive/Data/jigsaw-unintended-bias-in-toxicity-classification/test.csv')\n",
        "tokenizer = text.Tokenizer(\n",
        "    num_words=None, filters='!\"#$%&()*+,-./:;<=>?@[\\\\]^_`{|}~\\t\\n', lower=True)\n",
        "\n",
        "aux_columns = ['target', 'severe_toxicity', 'obscene', 'identity_attack', 'insult', 'threat']\n",
        "\n",
        "x_train = train_df['comment_text'].astype(str)\n",
        "y_train = train_df['target'].values\n",
        "y_aux_train = train_df[aux_columns].values\n",
        "\n",
        "x_test = test_df['comment_text'].astype(str)\n",
        "tokenizer.fit_on_texts(list(x_train) + list(x_test))\n",
        "\n",
        "for column in  identity_columns + ['target']:\n",
        "    train_df[column] = np.where(train_df[column]>= 0.5, True, False)\n",
        "    \n",
        "x_train = tokenizer.texts_to_sequences(x_train)\n",
        "x_test = tokenizer.texts_to_sequences(x_test)\n",
        "x_train = sequence.pad_sequences(x_train, maxlen=MAX_LEN)\n",
        "x_test = sequence.pad_sequences(x_test, maxlen=MAX_LEN)\n",
        "\n",
        "sample_weights = np.ones(len(x_train), dtype=np.float32)\n",
        "sample_weights += train_df[identity_columns].sum(axis=1)\n",
        "sample_weights += train_df['target'] * (~train_df[identity_columns]).sum(axis=1)\n",
        "sample_weights += (~train_df['target']) * train_df[identity_columns].sum(axis=1) * 5\n",
        "sample_weights /= sample_weights.mean()\n",
        "\n"
      ],
      "execution_count": 7,
      "outputs": []
    },
    {
      "cell_type": "code",
      "metadata": {
        "id": "eC5iH5O9ndja",
        "colab_type": "code",
        "colab": {
          "base_uri": "https://localhost:8080/",
          "height": 88
        },
        "outputId": "759502dd-ef97-44c6-bffb-efd6179ae812"
      },
      "source": [
        "embed_matrix = build_embed_matrix('fasttext-wiki-news-subwords-300', tokenizer.index_word)\n",
        "\n",
        "model = build_model(embed_matrix)\n",
        "\n",
        "model.fit(\n",
        "    x_train,\n",
        "    y_train,\n",
        "    batch_size=batch_size,\n",
        "    epochs=1,\n",
        "    verbose=2\n",
        ")\n",
        "predictions = model.predict(x_test, batch_size=2048)\n",
        "submission = pd.DataFrame({'id': test_df.id, 'prediction': list(predictions.flatten())})\n"
      ],
      "execution_count": 8,
      "outputs": [
        {
          "output_type": "stream",
          "text": [
            "/usr/local/lib/python3.6/dist-packages/smart_open/smart_open_lib.py:254: UserWarning: This function is deprecated, use smart_open.open instead. See the migration notes for details: https://github.com/RaRe-Technologies/smart_open/blob/master/README.rst#migrating-to-the-new-open-function\n",
            "  'See the migration notes for details: %s' % _MIGRATION_NOTES_URL\n"
          ],
          "name": "stderr"
        },
        {
          "output_type": "stream",
          "text": [
            "7051/7051 - 1298s - loss: 0.2412\n"
          ],
          "name": "stdout"
        }
      ]
    },
    {
      "cell_type": "code",
      "metadata": {
        "id": "kuYZG5EbqYvp",
        "colab_type": "code",
        "colab": {
          "base_uri": "https://localhost:8080/",
          "height": 419
        },
        "outputId": "eaf54afb-f02a-48fd-8279-af4d23663b9a"
      },
      "source": [
        "submission"
      ],
      "execution_count": 9,
      "outputs": [
        {
          "output_type": "execute_result",
          "data": {
            "text/html": [
              "<div>\n",
              "<style scoped>\n",
              "    .dataframe tbody tr th:only-of-type {\n",
              "        vertical-align: middle;\n",
              "    }\n",
              "\n",
              "    .dataframe tbody tr th {\n",
              "        vertical-align: top;\n",
              "    }\n",
              "\n",
              "    .dataframe thead th {\n",
              "        text-align: right;\n",
              "    }\n",
              "</style>\n",
              "<table border=\"1\" class=\"dataframe\">\n",
              "  <thead>\n",
              "    <tr style=\"text-align: right;\">\n",
              "      <th></th>\n",
              "      <th>id</th>\n",
              "      <th>prediction</th>\n",
              "    </tr>\n",
              "  </thead>\n",
              "  <tbody>\n",
              "    <tr>\n",
              "      <th>0</th>\n",
              "      <td>7097320</td>\n",
              "      <td>0.023798</td>\n",
              "    </tr>\n",
              "    <tr>\n",
              "      <th>1</th>\n",
              "      <td>7097321</td>\n",
              "      <td>0.099953</td>\n",
              "    </tr>\n",
              "    <tr>\n",
              "      <th>2</th>\n",
              "      <td>7097322</td>\n",
              "      <td>0.160539</td>\n",
              "    </tr>\n",
              "    <tr>\n",
              "      <th>3</th>\n",
              "      <td>7097323</td>\n",
              "      <td>0.053483</td>\n",
              "    </tr>\n",
              "    <tr>\n",
              "      <th>4</th>\n",
              "      <td>7097324</td>\n",
              "      <td>0.012230</td>\n",
              "    </tr>\n",
              "    <tr>\n",
              "      <th>...</th>\n",
              "      <td>...</td>\n",
              "      <td>...</td>\n",
              "    </tr>\n",
              "    <tr>\n",
              "      <th>97315</th>\n",
              "      <td>7194635</td>\n",
              "      <td>0.043183</td>\n",
              "    </tr>\n",
              "    <tr>\n",
              "      <th>97316</th>\n",
              "      <td>7194636</td>\n",
              "      <td>0.082581</td>\n",
              "    </tr>\n",
              "    <tr>\n",
              "      <th>97317</th>\n",
              "      <td>7194637</td>\n",
              "      <td>0.139601</td>\n",
              "    </tr>\n",
              "    <tr>\n",
              "      <th>97318</th>\n",
              "      <td>7194638</td>\n",
              "      <td>0.283837</td>\n",
              "    </tr>\n",
              "    <tr>\n",
              "      <th>97319</th>\n",
              "      <td>7194639</td>\n",
              "      <td>0.028332</td>\n",
              "    </tr>\n",
              "  </tbody>\n",
              "</table>\n",
              "<p>97320 rows × 2 columns</p>\n",
              "</div>"
            ],
            "text/plain": [
              "            id  prediction\n",
              "0      7097320    0.023798\n",
              "1      7097321    0.099953\n",
              "2      7097322    0.160539\n",
              "3      7097323    0.053483\n",
              "4      7097324    0.012230\n",
              "...        ...         ...\n",
              "97315  7194635    0.043183\n",
              "97316  7194636    0.082581\n",
              "97317  7194637    0.139601\n",
              "97318  7194638    0.283837\n",
              "97319  7194639    0.028332\n",
              "\n",
              "[97320 rows x 2 columns]"
            ]
          },
          "metadata": {
            "tags": []
          },
          "execution_count": 9
        }
      ]
    }
  ]
}