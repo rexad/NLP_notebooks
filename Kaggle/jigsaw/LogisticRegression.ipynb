{
  "nbformat": 4,
  "nbformat_minor": 0,
  "metadata": {
    "colab": {
      "name": "LogisticRegression.ipynb",
      "provenance": [],
      "authorship_tag": "ABX9TyMf/xwnydbLZ0mfpDDeiyYw",
      "include_colab_link": true
    },
    "kernelspec": {
      "name": "python3",
      "display_name": "Python 3"
    }
  },
  "cells": [
    {
      "cell_type": "markdown",
      "metadata": {
        "id": "view-in-github",
        "colab_type": "text"
      },
      "source": [
        "<a href=\"https://colab.research.google.com/github/rexad/NLP_notebooks/blob/master/Kaggle/jigsaw/LogisticRegression.ipynb\" target=\"_parent\"><img src=\"https://colab.research.google.com/assets/colab-badge.svg\" alt=\"Open In Colab\"/></a>"
      ]
    },
    {
      "cell_type": "markdown",
      "metadata": {
        "id": "fVcJF9NdUQKh",
        "colab_type": "text"
      },
      "source": [
        "#logistic regression with Scikit-learn"
      ]
    },
    {
      "cell_type": "markdown",
      "metadata": {
        "id": "9q4W6qv-UWIL",
        "colab_type": "text"
      },
      "source": [
        "##Importing our libraries"
      ]
    },
    {
      "cell_type": "markdown",
      "metadata": {
        "id": "fW8ry6kAbwDp",
        "colab_type": "text"
      },
      "source": [
        ""
      ]
    },
    {
      "cell_type": "code",
      "metadata": {
        "id": "XwDOa0J4T2E9",
        "colab_type": "code",
        "colab": {}
      },
      "source": [
        "import numpy as np\n",
        "import matplotlib.pyplot as plt\n",
        "import pandas as pd\n",
        "\n",
        "import tensorflow as tf\n",
        "from tensorflow import keras\n",
        "from tensorflow.keras.preprocessing import sequence\n",
        "\n",
        "import gensim.downloader as api\n",
        "from gensim.test.utils import get_tmpfile\n",
        "from gensim.models import KeyedVectors\n",
        "\n",
        "import os.path\n",
        "from google.colab import drive"
      ],
      "execution_count": 13,
      "outputs": []
    },
    {
      "cell_type": "markdown",
      "metadata": {
        "id": "csCWaSH1ZmA4",
        "colab_type": "text"
      },
      "source": [
        "##Load data for jigsaw "
      ]
    },
    {
      "cell_type": "code",
      "metadata": {
        "id": "8DDNABw5ZbqT",
        "colab_type": "code",
        "colab": {
          "base_uri": "https://localhost:8080/",
          "height": 68
        },
        "outputId": "9f95a4d7-9bca-4fd6-f0d7-847387b8a0f6"
      },
      "source": [
        "drive.mount('/content/gdrive')\n",
        "!ls \"/content/gdrive/My Drive/\"\n",
        "train = pd.read_csv('/content/gdrive/My Drive/Data/jigsaw-unintended-bias-in-toxicity-classification/train.csv')\n",
        "test = pd.read_csv('/content/gdrive/My Drive/Data/jigsaw-unintended-bias-in-toxicity-classification/test.csv')"
      ],
      "execution_count": 14,
      "outputs": [
        {
          "output_type": "stream",
          "text": [
            "Drive already mounted at /content/gdrive; to attempt to forcibly remount, call drive.mount(\"/content/gdrive\", force_remount=True).\n",
            "'Colab Notebooks'   Data\t\t\t\t\t ML_Training\n",
            " Colab_Notebooks   'Machine Learning A-Z (Codes and Datasets)'\n"
          ],
          "name": "stdout"
        }
      ]
    },
    {
      "cell_type": "markdown",
      "metadata": {
        "id": "6qQN1y8nZxUD",
        "colab_type": "text"
      },
      "source": [
        "##Feature engineering"
      ]
    },
    {
      "cell_type": "markdown",
      "metadata": {
        "id": "ismjlNL4b31n",
        "colab_type": "text"
      },
      "source": [
        "###Load embeddings using gensim library "
      ]
    },
    {
      "cell_type": "code",
      "metadata": {
        "id": "hdqLozPKb-c9",
        "colab_type": "code",
        "colab": {}
      },
      "source": [
        "base_path_embed = '/content/gdrive/My Drive/Data/Embeddings/'\n",
        "embeddings = [\n",
        "              'fasttext-wiki-news-subwords-300',\n",
        "              'glove-twitter-100',\n",
        "              'glove-wiki-gigaword-300'\n",
        "              ]\n",
        "for embed in embeddings:\n",
        "  if os.path.isfile(base_path_embed+embed) == False:\n",
        "    embed_file = api.load(embed)\n",
        "    embed_file.save(base_path_embed+embed)\n",
        "    del embed_file"
      ],
      "execution_count": 15,
      "outputs": []
    },
    {
      "cell_type": "markdown",
      "metadata": {
        "id": "-2xl53iKcI7_",
        "colab_type": "text"
      },
      "source": [
        "###Extract text information and tokenize"
      ]
    },
    {
      "cell_type": "code",
      "metadata": {
        "id": "VwYPvLf9ZsAW",
        "colab_type": "code",
        "colab": {}
      },
      "source": [
        "spcial_carracter = '!\"#$%&()*+,-./:;<=>?@[\\\\]^_`{|}~\\t\\n'\n",
        "tokenizer = tf.keras.preprocessing.text.Tokenizer(\n",
        "    num_words=None, split= ' ', filters = spcial_carracter\n",
        ")\n",
        "tokenizer.fit_on_texts(list(train['comment_text']) + list(test['comment_text']))\n",
        "x_train = tokenizer.texts_to_sequences(train['comment_text'])\n",
        "x_test = tokenizer.texts_to_sequences(test['comment_text'])\n",
        "x_train = sequence.pad_sequences(x_train, maxlen=220)\n",
        "x_test = sequence.pad_sequences(x_test, maxlen=220)\n",
        "y_train = np.where(train['target'] > 0.5, 1, 0)"
      ],
      "execution_count": 18,
      "outputs": []
    },
    {
      "cell_type": "markdown",
      "metadata": {
        "id": "1qowlG5kb_e-",
        "colab_type": "text"
      },
      "source": [
        "###Convert words to embeddigns"
      ]
    },
    {
      "cell_type": "code",
      "metadata": {
        "id": "9JYIW8EpcIMZ",
        "colab_type": "code",
        "colab": {}
      },
      "source": [
        "def build_embed_matrix(embed, tokens):\n",
        "\n",
        "  embed_vec = KeyedVectors.load(base_path_embed + embed, mmap='r')\n",
        "  embed_matrix = np.zeros((len(tokens) + 1,300))\n",
        "  for i, word in tokens.items():\n",
        "    for candidate in [word, word.lower()]:\n",
        "      if candidate in embed_vec:\n",
        "        embed_matrix[i]= embed_vec[candidate]\n",
        "  return embed_matrix"
      ],
      "execution_count": 21,
      "outputs": []
    },
    {
      "cell_type": "code",
      "metadata": {
        "id": "3aFS0_qW-nfC",
        "colab_type": "code",
        "colab": {
          "base_uri": "https://localhost:8080/",
          "height": 71
        },
        "outputId": "719c9527-4d5e-4c6f-8127-6058febaaa0b"
      },
      "source": [
        "embed_matrix = build_embed_matrix('fasttext-wiki-news-subwords-300', tokenizer.index_word)"
      ],
      "execution_count": 22,
      "outputs": [
        {
          "output_type": "stream",
          "text": [
            "/usr/local/lib/python3.6/dist-packages/smart_open/smart_open_lib.py:254: UserWarning: This function is deprecated, use smart_open.open instead. See the migration notes for details: https://github.com/RaRe-Technologies/smart_open/blob/master/README.rst#migrating-to-the-new-open-function\n",
            "  'See the migration notes for details: %s' % _MIGRATION_NOTES_URL\n"
          ],
          "name": "stderr"
        }
      ]
    },
    {
      "cell_type": "code",
      "metadata": {
        "id": "PH0gwXRW-ntt",
        "colab_type": "code",
        "colab": {
          "base_uri": "https://localhost:8080/",
          "height": 34
        },
        "outputId": "ce3db6c0-acc9-4bc8-8642-959dad8a6e7c"
      },
      "source": [
        "x_train.shape"
      ],
      "execution_count": 37,
      "outputs": [
        {
          "output_type": "execute_result",
          "data": {
            "text/plain": [
              "(1804874, 220)"
            ]
          },
          "metadata": {
            "tags": []
          },
          "execution_count": 37
        }
      ]
    },
    {
      "cell_type": "code",
      "metadata": {
        "id": "W0xPSfoY-rog",
        "colab_type": "code",
        "colab": {
          "base_uri": "https://localhost:8080/",
          "height": 34
        },
        "outputId": "04558526-7dce-4616-bd05-e19e707daa39"
      },
      "source": [
        "train['comment_text'].shape"
      ],
      "execution_count": 38,
      "outputs": [
        {
          "output_type": "execute_result",
          "data": {
            "text/plain": [
              "(1804874,)"
            ]
          },
          "metadata": {
            "tags": []
          },
          "execution_count": 38
        }
      ]
    },
    {
      "cell_type": "code",
      "metadata": {
        "id": "blTjPdztRfEa",
        "colab_type": "code",
        "colab": {}
      },
      "source": [
        ""
      ],
      "execution_count": null,
      "outputs": []
    }
  ]
}